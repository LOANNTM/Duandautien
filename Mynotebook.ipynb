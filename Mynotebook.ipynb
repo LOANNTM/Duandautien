{
 "cells": [
  {
   "cell_type": "code",
   "execution_count": 1,
   "id": "334562ea",
   "metadata": {},
   "outputs": [
    {
     "data": {
      "text/plain": [
       "2"
      ]
     },
     "execution_count": 1,
     "metadata": {},
     "output_type": "execute_result"
    }
   ],
   "source": [
    "1+1"
   ]
  },
  {
   "cell_type": "markdown",
   "id": "9d07ead7",
   "metadata": {},
   "source": [
    "# My title\n",
    "\n",
    "## My title\n",
    "\n",
    "*in nghieng*\n",
    "\n",
    "**in dam**\n",
    "\n",
    "1. Chuong 1\n",
    "    1. Muc 1\n",
    "    2. Muc 2\n",
    "2. Chuoung 2\n",
    "3. Chuoung 3\n",
    "    1. Muc 1\n",
    "    2. Muc 2\n",
    "    \n",
    "bullets:\n",
    "- Chuong 1\n",
    "    - Muc 1\n",
    "    - Muc 2\n",
    "- Chuong 2\n",
    "- Chuowng 3\n",
    "\n",
    "Vi du ve ma code:\n",
    "```python\n",
    "y = 2 \n",
    "x = 3\n",
    "print(y + x)```\n",
    "\n",
    "insert link\n",
    "[youtube](https://www.cognitiveclass.ai)\n",
    "\n",
    "Tao 1 bang cos 3 cot 4 hang\n",
    "|header|header|header|\n",
    "|----|----|----|\n",
    "|cell|cell|cell|\n",
    "----|----|----|\n",
    "|cell|cell|cell|\n",
    "----|----|----|\n",
    "|cell|cell|cell|\n",
    "----|----|----|\n",
    "|cell|cell|cell|\n",
    "\n"
   ]
  },
  {
   "cell_type": "code",
   "execution_count": 1,
   "id": "a5d465b5",
   "metadata": {},
   "outputs": [
    {
     "ename": "SyntaxError",
     "evalue": "invalid syntax (2443074723.py, line 1)",
     "output_type": "error",
     "traceback": [
      "\u001b[0;36m  Cell \u001b[0;32mIn[1], line 1\u001b[0;36m\u001b[0m\n\u001b[0;31m    Tao 1 bang cos 3 cot 4 hang\u001b[0m\n\u001b[0m        ^\u001b[0m\n\u001b[0;31mSyntaxError\u001b[0m\u001b[0;31m:\u001b[0m invalid syntax\n"
     ]
    }
   ],
   "source": [
    "Tao 1 bang cos 3 cot 4 hang\n",
    "|header|header|header|\n",
    "|----|----|----|\n",
    "|cell|cell|cell|\n",
    "----|----|----|\n",
    "|cell|cell|cell|\n",
    "----|----|----|\n",
    "|cell|cell|cell|\n",
    "----|----|----|\n",
    "|cell|cell|cell|"
   ]
  },
  {
   "cell_type": "code",
   "execution_count": null,
   "id": "a17f357e",
   "metadata": {},
   "outputs": [],
   "source": []
  }
 ],
 "metadata": {
  "kernelspec": {
   "display_name": "Python 3 (ipykernel)",
   "language": "python",
   "name": "python3"
  },
  "language_info": {
   "codemirror_mode": {
    "name": "ipython",
    "version": 3
   },
   "file_extension": ".py",
   "mimetype": "text/x-python",
   "name": "python",
   "nbconvert_exporter": "python",
   "pygments_lexer": "ipython3",
   "version": "3.9.16"
  }
 },
 "nbformat": 4,
 "nbformat_minor": 5
}
